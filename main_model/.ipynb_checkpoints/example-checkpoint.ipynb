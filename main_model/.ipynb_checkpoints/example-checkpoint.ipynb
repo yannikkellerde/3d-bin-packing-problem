{
 "cells": [
  {
   "cell_type": "code",
   "execution_count": 12,
   "metadata": {},
   "outputs": [],
   "source": [
    "%run ./packer.ipynb"
   ]
  },
  {
   "cell_type": "code",
   "execution_count": 13,
   "metadata": {},
   "outputs": [],
   "source": [
    "packer = Packer()\n",
    "\n",
    "packer.add_bin(Bin('Auto', 120,80,90, 100))\n",
    "\n",
    "packer.add_item(Item('Kiste', 62, 35, 38, 1))\n",
    "packer.add_item(Item('Kiste', 62, 35, 38, 1))\n",
    "packer.add_item(Item('Kiste', 62, 35, 38, 1))\n",
    "packer.add_item(Item('Kiste', 62, 35, 38, 1))\n",
    "packer.add_item(Item('PC-Kiste', 51,36,48, 1))\n",
    "packer.add_item(Item('Wäschekorb', 49,29,27, 1))\n",
    "packer.add_item(Item('Werkzeugbox', 39,19,18, 1))\n",
    "packer.add_item(Item('Ikea Tüte', 40,24,18, 1))\n",
    "packer.add_item(Item('Longboard', 107,27,12, 1))"
   ]
  },
  {
   "cell_type": "code",
   "execution_count": 14,
   "metadata": {
    "scrolled": true
   },
   "outputs": [
    {
     "name": "stdout",
     "output_type": "stream",
     "text": [
      "\n",
      "::::::::::: Auto(120.000x80.000x90.000, max_weight:100.000) vol(864000.000) item_number(9) filling_ratio(0.604)\n",
      "FITTED ITEMS:\n",
      "====>  PC-Kiste(51.000x36.000x48.000, weight: 1.000) pos([0, 0, 0]) rt(4) vol(88128.000)\n",
      "====>  Kiste(62.000x35.000x38.000, weight: 1.000) pos([Decimal('36.000'), 0, 0]) rt(1) vol(82460.000)\n",
      "====>  Kiste(62.000x35.000x38.000, weight: 1.000) pos([0, 0, Decimal('48.000')]) rt(4) vol(82460.000)\n",
      "====>  Kiste(62.000x35.000x38.000, weight: 1.000) pos([Decimal('74.000'), 0, 0]) rt(1) vol(82460.000)\n",
      "====>  Kiste(62.000x35.000x38.000, weight: 1.000) pos([Decimal('36.000'), 0, Decimal('35.000')]) rt(4) vol(82460.000)\n",
      "====>  Wäschekorb(49.000x29.000x27.000, weight: 1.000) pos([Decimal('71.000'), 0, Decimal('35.000')]) rt(5) vol(38367.000)\n",
      "====>  Longboard(107.000x27.000x12.000, weight: 1.000) pos([0, Decimal('62.000'), Decimal('48.000')]) rt(5) vol(34668.000)\n",
      "====>  Ikea Tüte(40.000x24.000x18.000, weight: 1.000) pos([Decimal('36.000'), Decimal('62.000'), 0]) rt(3) vol(17280.000)\n",
      "====>  Werkzeugbox(39.000x19.000x18.000, weight: 1.000) pos([Decimal('60.000'), Decimal('62.000'), 0]) rt(3) vol(13338.000)\n",
      "\n",
      "UNFITTED ITEMS:\n",
      "\n",
      "Selected bin with highest filling ratio:  Auto(120.000x80.000x90.000, max_weight:100.000) vol(864000.000) item_number(9) filling_ratio(0.604)\n"
     ]
    }
   ],
   "source": [
    "packer.pack()"
   ]
  },
  {
   "cell_type": "code",
   "execution_count": null,
   "metadata": {},
   "outputs": [],
   "source": [
    "import matplotlib.pyplot as plt\n",
    "from mpl_toolkits.mplot3d import Axes3D\n",
    "\n",
    "def set_axes_equal(ax,xmax,ymax,zmax):\n",
    "    \"\"\"\n",
    "    Make axes of 3D plot have equal scale so that spheres appear as spheres,\n",
    "    cubes as cubes, etc.\n",
    "\n",
    "    Input\n",
    "      ax: a matplotlib axis, e.g., as output from plt.gca().\n",
    "    \"\"\"\n",
    "\n",
    "    #x_limits = ax.get_xlim3d()\n",
    "    #y_limits = ax.get_ylim3d()\n",
    "    #z_limits = ax.get_zlim3d()\n",
    "    x_limits = (0,xmax)\n",
    "    y_limits = (0,ymax)\n",
    "    z_limits = (0,zmax)\n",
    "\n",
    "    print(x_limits,y_limits,z_limits)\n",
    "\n",
    "    x_range = abs(x_limits[1] - x_limits[0])\n",
    "    x_middle = np.mean(x_limits)\n",
    "    y_range = abs(y_limits[1] - y_limits[0])\n",
    "    y_middle = np.mean(y_limits)\n",
    "    z_range = abs(z_limits[1] - z_limits[0])\n",
    "    z_middle = np.mean(z_limits)\n",
    "\n",
    "    # The plot bounding box is a sphere in the sense of the infinity\n",
    "    # norm, hence I call half the max range the plot radius.\n",
    "    plot_radius = 0.5*max([x_range, y_range, z_range])\n",
    "    print(x_middle,plot_radius)\n",
    "\n",
    "    ax.set_xlim3d([x_middle - plot_radius, x_middle + plot_radius])\n",
    "    ax.set_ylim3d([y_middle - plot_radius, y_middle + plot_radius])\n",
    "    ax.set_zlim3d([z_middle - plot_radius, z_middle + plot_radius])"
   ]
  },
  {
   "cell_type": "code",
   "execution_count": null,
   "metadata": {},
   "outputs": [],
   "source": [
    "divo = 10\n",
    "\n",
    "for b in packer.bins:\n",
    "    volsum = 0\n",
    "    fig = plt.figure()\n",
    "    ax = fig.add_subplot(111, projection='3d')\n",
    "    ax.set_box_aspect([1.0, 1.0, 1.0])\n",
    "    axes = np.array([int(b.width), int(b.length),int(b.height)],dtype=int)//divo\n",
    "    ax.set_xticks(np.arange(0,axes[0]+1,1))\n",
    "    ax.set_yticks(np.arange(0,axes[1]+1,1))\n",
    "    ax.set_zticks(np.arange(0,axes[2]+1,1))\n",
    "    data = np.zeros(axes, dtype=np.bool)\n",
    "    colors = np.zeros(axes.tolist() + [4], dtype=np.float32)\n",
    "\n",
    "    print(\":::::::::::\", b.string())\n",
    "\n",
    "    print(\"FITTED ITEMS:\")\n",
    "    for item in b.items:\n",
    "        volsum += item.get_volume()\n",
    "        dim = np.array(item.get_dimension(),dtype=int)//divo\n",
    "        p = np.array(item.position,dtype=int)//divo\n",
    "        colors[int(p[0]):int(dim[0]+p[0]),int(p[1]):int(dim[1]+p[1]),int(p[2]):int(dim[2]+p[2]),:] = np.array(colormap[item.name]+[160])/255\n",
    "        data[int(p[0]):int(dim[0]+p[0]),int(p[1]):int(dim[1]+p[1]),int(p[2]):int(dim[2]+p[2])] = True\n",
    "        print(item.position)\n",
    "        print(\"====> \", item.string())\n",
    "\n",
    "    print(\"UNFITTED ITEMS:\")\n",
    "    for item in b.unfitted_items:\n",
    "        print(\"====> \", item.string())\n",
    "    ax.voxels(data, facecolors=colors)\n",
    "    set_axes_equal(ax,*axes)\n",
    "    print(\"Container volume:\",b.get_volume())\n",
    "    print(\"Items volume:\",volsum)\n",
    "    plt.show()\n",
    "    print(\"***************************************************\")\n",
    "    print(\"***************************************************\")"
   ]
  }
 ],
 "metadata": {
  "kernelspec": {
   "display_name": "Python 3 (ipykernel)",
   "language": "python",
   "name": "python3"
  },
  "language_info": {
   "codemirror_mode": {
    "name": "ipython",
    "version": 3
   },
   "file_extension": ".py",
   "mimetype": "text/x-python",
   "name": "python",
   "nbconvert_exporter": "python",
   "pygments_lexer": "ipython3",
   "version": "3.9.7"
  }
 },
 "nbformat": 4,
 "nbformat_minor": 4
}
